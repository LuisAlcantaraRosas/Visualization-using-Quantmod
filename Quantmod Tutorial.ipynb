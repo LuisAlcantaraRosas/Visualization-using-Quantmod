{
 "cells": [
  {
   "cell_type": "markdown",
   "metadata": {},
   "source": [
    "# Quantmod Visualization Tutorial"
   ]
  },
  {
   "cell_type": "markdown",
   "metadata": {},
   "source": [
    "### Introduction\n",
    "\n",
    "This will be a short visualization tutorial for working with your own financial data and look a little bit how to work with online assets. If you have your database, you would like to visualize it properly, so with this tutorial you will know which libraries download and the basic tools for technical analysis."
   ]
  },
  {
   "cell_type": "markdown",
   "metadata": {},
   "source": [
    "### Let's get started...\n",
    "\n",
    "Visualize financial data could be something hard If we just have the asset's database and no other platform to work with it. Performance in Excel is a shame, install Metatrader and import databases could be painful and use Bloomberg could be something extremely expensive. R have now this tool for visualize in professional way and work with some natural R extra features."
   ]
  },
  {
   "cell_type": "code",
   "execution_count": 67,
   "metadata": {},
   "outputs": [],
   "source": [
    "library('quantmod') #If you don't have it remember to use install.packages('quantmod')\n",
    "library('zoo') # This library is important to work with time series. \n",
    "               # Necessary to boost the use of Quantmod. Remember to install \n",
    "               # it also if you don´t have it already."
   ]
  },
  {
   "cell_type": "markdown",
   "metadata": {},
   "source": [
    "I've search for XAUUSD (Gold/US Dollar) from 2010-07-21 to 2019-08-21 and downloaded the CSV as \"XAUUSD_D1.csv\" . When you read the CSV, the structure is in this way:"
   ]
  },
  {
   "cell_type": "code",
   "execution_count": null,
   "metadata": {},
   "outputs": [],
   "source": [
    "XAUUSD <- read.csv(file=\"XAUUSD_D1.csv\", header=TRUE, sep=\",\")\n",
    "head(XAUUSD) #Just visualize the top data."
   ]
  },
  {
   "cell_type": "markdown",
   "metadata": {},
   "source": [
    "We can work with the data using the function \"read.zoo\". With this R will know that this database is in a time series structure. In format you can change the order of %Y year, %m month or %d day, depending on the order you have it. Remember to set the \"index.colums\" in the place where the time and date is. Quantmod will read just the columns with the open, close, high and low, ignoring the rest of the unnecesary data."
   ]
  },
  {
   "cell_type": "code",
   "execution_count": null,
   "metadata": {},
   "outputs": [],
   "source": [
    "XAUUSD<- read.zoo(XAUUSD,format=\"%Y-%m-%d\",index.column=1)\n",
    "head(XAUUSD)"
   ]
  },
  {
   "cell_type": "markdown",
   "metadata": {},
   "source": [
    "Just with this preprocessing, we can begin to visualize using Quantmod. The format is very professional and outstanding for presentations showing the main information, very similar to other platforms such as Bloomberg or Metatrader. "
   ]
  },
  {
   "cell_type": "code",
   "execution_count": null,
   "metadata": {
    "scrolled": true
   },
   "outputs": [],
   "source": [
    "chartSeries(XAUUSD, \"bars\")"
   ]
  },
  {
   "cell_type": "markdown",
   "metadata": {},
   "source": [
    "Too much data makes difficult to visualize, lets change the range of visualization to make easy intepretations. We are going to use the function \"as.xts\" to change the visualization date."
   ]
  },
  {
   "cell_type": "code",
   "execution_count": null,
   "metadata": {},
   "outputs": [],
   "source": [
    "XAUUSD<-as.xts(XAUUSD) #Just in this way"
   ]
  },
  {
   "cell_type": "code",
   "execution_count": null,
   "metadata": {},
   "outputs": [],
   "source": [
    "Dates<-'2016-01::2016-05' #Select in this format from when to when visualize\n",
    "XAUUSD_2014<-XAUUSD[Dates]"
   ]
  },
  {
   "cell_type": "code",
   "execution_count": null,
   "metadata": {},
   "outputs": [],
   "source": [
    "chartSeries(XAUUSD_2014, \"bar\")"
   ]
  },
  {
   "cell_type": "markdown",
   "metadata": {},
   "source": [
    "You can also select another ways to visualize financial data. You can choose beetwen the option bar as \"candlesticks\", \"bar\", \"matchsticks\" and \"line\". We are going to work with the most common way in technical analysis: The candlesticks"
   ]
  },
  {
   "cell_type": "code",
   "execution_count": null,
   "metadata": {},
   "outputs": [],
   "source": [
    "chartSeries(XAUUSD_2014, \"candlesticks\")"
   ]
  },
  {
   "cell_type": "markdown",
   "metadata": {},
   "source": [
    "We see and interesting behavior around 1294, maybe a resistance that gold rejects, also a support around 1215. Then, we are going to draw those support and resistance lines."
   ]
  },
  {
   "cell_type": "code",
   "execution_count": null,
   "metadata": {
    "scrolled": true
   },
   "outputs": [],
   "source": [
    "S_P<-c(1294,1215) #Select the quantity of lines desired and the values.\n",
    "chartSeries(XAUUSD_2014, \"candlesticks\",TA='addLines(h=S_P,col=6)') #In TA just add the variable name and colour"
   ]
  },
  {
   "cell_type": "markdown",
   "metadata": {},
   "source": [
    "Right now an indicator could be useful to have more idea about how is behaving this. Lets try the Parabolic SAR, just remember that if the Parabolic SAR is above the price we are in a bearish market but if it is under the price, then, we are in a bullish market. The Parabolic SAR have as parameter the acceleration 0.02 and 0.2. Also we are going to paint it blue."
   ]
  },
  {
   "cell_type": "code",
   "execution_count": null,
   "metadata": {},
   "outputs": [],
   "source": [
    "addSAR(accel = c(0.02, 0.2), col = \"blue\")"
   ]
  },
  {
   "cell_type": "markdown",
   "metadata": {},
   "source": [
    "Finally add a  RSI for 20 periods using an exponential moving average (EMA)."
   ]
  },
  {
   "cell_type": "code",
   "execution_count": null,
   "metadata": {},
   "outputs": [],
   "source": [
    "addRSI(n = 20, maType = \"EMA\")"
   ]
  },
  {
   "cell_type": "markdown",
   "metadata": {},
   "source": [
    "It is possible to have a conection with online databases. For example, lets use yahoo finance in this case to search information about Apple."
   ]
  },
  {
   "cell_type": "code",
   "execution_count": null,
   "metadata": {},
   "outputs": [],
   "source": [
    "getSymbols.yahoo('AAPL',env=globalenv()) #env means where to store the data."
   ]
  },
  {
   "cell_type": "markdown",
   "metadata": {},
   "source": [
    "The data is already in memory. Then, we can just plot to see the behavior"
   ]
  },
  {
   "cell_type": "code",
   "execution_count": null,
   "metadata": {},
   "outputs": [],
   "source": [
    "chartSeries(AAPL, \"bar\")"
   ]
  },
  {
   "cell_type": "markdown",
   "metadata": {},
   "source": [
    "As we can see, there is all information about Apple since 2007 to 2019. In this case, we have information about the Volume that is also plotted, if Quantmod finds useful data it will use it, if not Quantmod simply ignore it. Let's check the data structure:"
   ]
  },
  {
   "cell_type": "code",
   "execution_count": null,
   "metadata": {},
   "outputs": [],
   "source": [
    "head(AAPL)"
   ]
  },
  {
   "cell_type": "markdown",
   "metadata": {},
   "source": [
    "Unfortunately for FX is complicated search online data using Quantmod. This is an excelent tool for other kind of assets. In OANDA we can just search information from the last 180 days, such a pitty for extensive analysis. In the past, Quantmod had issues with yahoo finance, so we can't check all aviable assets from them. Downloading our own databases from our prefered broker's system is, for me, the best option to work."
   ]
  },
  {
   "cell_type": "markdown",
   "metadata": {},
   "source": [
    "For further tutorials I'm going to show you more tools for finance: more visualization methods and algorithms in R and Python. I hope you've found useful this tutorial. \n",
    "\n",
    "email: luisangelalcantara@yahoo.com"
   ]
  }
 ],
 "metadata": {
  "kernelspec": {
   "display_name": "R",
   "language": "R",
   "name": "ir"
  },
  "language_info": {
   "codemirror_mode": "r",
   "file_extension": ".r",
   "mimetype": "text/x-r-source",
   "name": "R",
   "pygments_lexer": "r",
   "version": "3.5.1"
  }
 },
 "nbformat": 4,
 "nbformat_minor": 2
}
